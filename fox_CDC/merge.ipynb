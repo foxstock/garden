{
 "cells": [
  {
   "cell_type": "code",
   "execution_count": 1,
   "metadata": {},
   "outputs": [
    {
     "name": "stdout",
     "output_type": "stream",
     "text": [
      "所有文字檔案已合併完成！\n"
     ]
    }
   ],
   "source": [
    "import os\n",
    "\n",
    "# 設定資料夾路徑\n",
    "folder_path = 'csv_20240603-20240618'\n",
    "\n",
    "# 獲取所有文字檔案並按檔案名稱排序\n",
    "files = sorted([file for file in os.listdir(folder_path) if file.endswith('.csv')])\n",
    "\n",
    "# 合併檔案\n",
    "with open('merged_file.txt', 'w') as merged_file:\n",
    "    for file_name in files:\n",
    "        with open(os.path.join(folder_path, file_name), 'r') as file:\n",
    "            # 將每個檔案的內容寫入合併後的檔案\n",
    "            merged_file.write(file.read() + '\\n')\n",
    "print('所有文字檔案已合併完成！')"
   ]
  }
 ],
 "metadata": {
  "kernelspec": {
   "display_name": "Python 3",
   "language": "python",
   "name": "python3"
  },
  "language_info": {
   "codemirror_mode": {
    "name": "ipython",
    "version": 3
   },
   "file_extension": ".py",
   "mimetype": "text/x-python",
   "name": "python",
   "nbconvert_exporter": "python",
   "pygments_lexer": "ipython3",
   "version": "3.12.4"
  }
 },
 "nbformat": 4,
 "nbformat_minor": 2
}
