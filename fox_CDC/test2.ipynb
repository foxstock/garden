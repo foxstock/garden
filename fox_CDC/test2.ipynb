{
 "cells": [
  {
   "cell_type": "code",
   "execution_count": 5,
   "metadata": {},
   "outputs": [
    {
     "name": "stdout",
     "output_type": "stream",
     "text": [
      "20240611\n",
      "20240617\n",
      "20240617\n",
      "20240618\n"
     ]
    }
   ],
   "source": [
    "import os\n",
    "FINAL_CSV_DIR=\"FINAL\\\\\"\n",
    "for filename in os.listdir(FINAL_CSV_DIR):\n",
    "\n",
    "    file_path = os.path.join(FINAL_CSV_DIR, filename)\n",
    "\n",
    "    # 確保是檔案而不是資料夾\n",
    "\n",
    "    if os.path.isfile(file_path):\n",
    "        a=str(file_path).split(\"\\\\\")[-1][:8] # a=yyyymmdd\n",
    "        print(a)"
   ]
  }
 ],
 "metadata": {
  "kernelspec": {
   "display_name": "Python 3",
   "language": "python",
   "name": "python3"
  },
  "language_info": {
   "codemirror_mode": {
    "name": "ipython",
    "version": 3
   },
   "file_extension": ".py",
   "mimetype": "text/x-python",
   "name": "python",
   "nbconvert_exporter": "python",
   "pygments_lexer": "ipython3",
   "version": "3.12.4"
  }
 },
 "nbformat": 4,
 "nbformat_minor": 2
}
