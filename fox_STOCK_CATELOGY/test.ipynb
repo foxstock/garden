{
 "cells": [
  {
   "cell_type": "code",
   "execution_count": 2,
   "metadata": {},
   "outputs": [],
   "source": [
    "import time,re,os,pathlib,time,configparser,requests\n",
    "from sys import exit,argv\n",
    "from datetime import datetime\n",
    "from time import gmtime,strftime\n",
    "from WindowMgr import *\n",
    "\n",
    "from selenium import webdriver\n",
    "from selenium.webdriver.chrome.service import Service\n",
    "from selenium.webdriver.chrome.options import Options\n",
    "\n",
    "from selenium.webdriver.common.by import By\n",
    "from selenium.webdriver.support.ui import Select\n",
    "from selenium.webdriver.common.keys import Keys\n",
    "\n",
    "from bs4 import BeautifulSoup"
   ]
  },
  {
   "cell_type": "code",
   "execution_count": 3,
   "metadata": {},
   "outputs": [],
   "source": [
    "#玩股網 分類板塊首頁\n",
    "url = \"https://www.wantgoo.com/index/overview\"\n",
    "\n",
    "def ini_to_dict(ini_loc):\n",
    "    config = configparser.ConfigParser(allow_no_value=True)\n",
    "    config.read(ini_loc,encoding='utf-8')\n",
    "    sections=config.sections()\n",
    "    tmp_dict={}\n",
    "    for i in sections:\n",
    "        options=config.options(i)\n",
    "        for j in options:\n",
    "            tmp_dict[i+'.'+j]=config[i][j]\n",
    "    return tmp_dict\n",
    "\n",
    "base_dir = os.getcwd()\n",
    "config=ini_to_dict(f\"{base_dir}\\\\setting.ini\")\n",
    "service = Service(config['SETTING.chromedriver_loc'])\n",
    "# 初始化 Chrome 選項\n",
    "options = Options()\n",
    "# 添加參數，使 Chrome 瀏覽器最大化\n",
    "options.add_argument(\"--start-maximized\")\n",
    "options.add_argument(\"--disable-notifications\")\n",
    "options.add_argument(\"--disable-gps\")\n",
    "driver = webdriver.Chrome(service=service, options=options)\n",
    "driver.get(url)"
   ]
  },
  {
   "cell_type": "code",
   "execution_count": 8,
   "metadata": {},
   "outputs": [
    {
     "name": "stdout",
     "output_type": "stream",
     "text": [
      "TW:[('/index/^028/stocks', '電零組'), ('/index/^014/stocks', '紡織'), ('/index/^023/stocks', '汽車'), ('/index/^263/stocks', '化學生醫'), ('/index/^035/stocks', '金融'), ('/index/^021/stocks', '鋼鐵'), ('/index/^555/stocks', 'ETN'), ('/index/^033/stocks', '航運'), ('/index/^016/stocks', '電器電纜'), ('/index/^270/stocks', '存託憑證'), ('/index/^011/stocks', '水泥'), ('/index/^037/stocks', '油電燃氣'), ('/index/^020/stocks', '造紙'), ('/index/^032/stocks', '營建'), ('/index/^666/stocks', '數位雲端'), ('/index/^018/stocks', '生技醫療'), ('/index/^030/stocks', '資訊服務'), ('/index/^013/stocks', '塑膠'), ('/index/^025/stocks', '電腦週邊'), ('/index/^034/stocks', '觀光'), ('/index/^017/stocks', '化學'), ('/index/^274/stocks', '受益證券'), ('/index/^668/stocks', '居家生活'), ('/index/^554/stocks', 'ETF'), ('/index/^029/stocks', '電子通路'), ('/index/^015/stocks', '電機'), ('/index/^027/stocks', '通信網路'), ('/index/^264/stocks', '電子'), ('/index/^036/stocks', '貿易百貨'), ('/index/^022/stocks', '橡膠'), ('/index/^031/stocks', '其它電子'), ('/index/^665/stocks', '綠能環保'), ('/index/^026/stocks', '光電'), ('/index/^012/stocks', '食品'), ('/index/^038/stocks', '其他'), ('/index/^024/stocks', '半導體'), ('/index/^558/stocks', '海外第一'), ('/index/^019/stocks', '玻璃'), ('/index/^667/stocks', '運動休閒')]\n",
      "TW:[('/index/^672/stocks', '運動休閒'), ('/index/^050/stocks', '鋼鐵'), ('/index/^059/stocks', '其它電子'), ('/index/^045/stocks', '電機'), ('/index/^057/stocks', '電子通路'), ('/index/^052/stocks', '半導體'), ('/index/^047/stocks', '化工'), ('/index/^056/stocks', '電零組'), ('/index/^042/stocks', '食品'), ('/index/^054/stocks', '光電'), ('/index/^671/stocks', '數位雲端'), ('/index/^066/stocks', '其他'), ('/index/^557/stocks', 'ETN'), ('/index/^061/stocks', '航運'), ('/index/^044/stocks', '紡織'), ('/index/^673/stocks', '居家生活'), ('/index/^065/stocks', '油電燃氣'), ('/index/^559/stocks', '農業科技業'), ('/index/^260/stocks', '文創類'), ('/index/^063/stocks', '金融'), ('/index/^046/stocks', '電器電纜'), ('/index/^058/stocks', '資訊服務'), ('/index/^561/stocks', '海外第一'), ('/index/^053/stocks', '電腦週邊'), ('/index/^276/stocks', '憑托憑證'), ('/index/^062/stocks', '觀光'), ('/index/^670/stocks', '綠能環保'), ('/index/^556/stocks', 'ETF'), ('/index/^048/stocks', '生技醫療'), ('/index/^060/stocks', '營建'), ('/index/^043/stocks', '塑膠'), ('/index/^055/stocks', '通信網路')]\n"
     ]
    }
   ],
   "source": [
    "# ul id=group2\n",
    "tw_ul = driver.find_element(By.ID,\"group2\")\n",
    "inner_html = tw_ul.get_attribute('innerHTML')\n",
    "#print(inner_html)\n",
    "tw_ls=re.findall(r'<li><a href=\"([^\"]+)\" .*?>(.*?)</a></li>',inner_html)\n",
    "print(f\"TW:{tw_ls}\")\n",
    "# ul id=group3\n",
    "to_ul = driver.find_element(By.ID,\"group3\")\n",
    "inner_html = to_ul.get_attribute('innerHTML')\n",
    "#print(inner_html)\n",
    "to_ls=re.findall(r'<li><a href=\"([^\"]+)\" .*?>(.*?)</a></li>',inner_html)\n",
    "print(f\"TW:{to_ls}\")\n",
    "#print(tw_ls[0][0])\n"
   ]
  },
  {
   "cell_type": "code",
   "execution_count": 9,
   "metadata": {},
   "outputs": [],
   "source": [
    "driver.get(\"https://www.wantgoo.com/index/^028/stocks\")"
   ]
  },
  {
   "cell_type": "code",
   "execution_count": 12,
   "metadata": {},
   "outputs": [
    {
     "name": "stdout",
     "output_type": "stream",
     "text": [
      "[('勝德', '3296'), ('志聖', '2467'), ('健策', '3653'), ('佳必琪', '6197'), ('聯德控股-KY', '4912'), ('谷崧', '3607'), ('新日興', '3376'), ('維熹', '3501'), ('鈺邦', '6449'), ('瀚荃', '8103'), ('鉅祥', '2476'), ('建通', '2460'), ('嘉基', '6715'), ('鴻碩', '3092'), ('富世達', '6805'), ('嘉澤', '3533'), ('川湖', '2059'), ('太空梭', '2440'), ('晶技', '3042'), ('鴻名', '3021'), ('天二科技', '6834'), ('聯茂', '6213'), ('聯昌', '2431'), ('台光電', '2383'), ('圓裕', '6835'), ('正崴', '2392'), ('台虹', '8039'), ('揚博', '2493'), ('百容', '2483'), ('新至陞', '3679'), ('泰碩', '3338'), ('燿華', '2367'), ('信錦', '1582'), ('華通', '2313'), ('環科', '2413'), ('聚鼎', '6224'), ('偉訓', '3032'), ('今皓', '3011'), ('騰輝電子-KY', '6672'), ('興勤', '2428'), ('欣興', '3037'), ('詮欣', '6205'), ('南電', '8046'), ('臻鼎-KY', '4958'), ('台端', '3432'), ('信邦', '3023'), ('全漢', '3015'), ('首利', '1471'), ('良得電', '2462'), ('健和興', '3003'), ('金像電', '2368'), ('競國', '6108'), ('同泰', '3321'), ('致伸', '4915'), ('錩新', '2415'), ('精成科', '6191'), ('志超', '8213'), ('泰鼎-KY', '4927'), ('鑫禾', '4999'), ('日電貿', '3090'), ('鎰勝', '6115'), ('國巨', '2327'), ('鈞寶', '6155'), ('聯穎', '3550'), ('群電', '6412'), ('銘鈺', '4545'), ('立德', '3058'), ('飛宏', '2457'), ('新巨', '2420'), ('康控-KY', '4943'), ('群光', '2385'), ('希華', '2484'), ('金橋', '6133'), ('立隆電', '2472'), ('晟鈦', '3229'), ('榮科', '4989'), ('毅嘉', '2402'), ('健鼎', '3044'), ('台達電', '2308'), ('嘉聯益', '6153'), ('凱美', '2375'), ('大毅', '2478'), ('力銘', '3593'), ('AES-KY', '6781'), ('達邁', '3645'), ('柏承', '6141'), ('廣宇', '2328'), ('禾伸堂', '3026'), ('瀚宇博', '5469'), ('康舒', '6282'), ('聯德', '3308'), ('華新科', '2492'), ('建準', '2421'), ('台郡', '6269'), ('菱光', '8249'), ('楠梓電', '2316'), ('宏致', '3605'), ('敬鵬', '2355'), ('定穎投控', '3715')]\n"
     ]
    }
   ],
   "source": [
    "# table id=\"realTimeTable\"\n",
    "stock_table = driver.find_element(By.ID,\"realTimeTable\")\n",
    "inner_html = stock_table.get_attribute('innerHTML')\n",
    "#print(inner_html)\n",
    "stock_ls=re.findall(r'<tr c-model-dazzle=\"rowId:rowId\".*?><td><a class=\"stock-name-a\" href=\".*?\" c-model-dazzle=\"href:url\"><span c-model=\"name\">(.*?)</span><span c-model=\"id\">(.*?)</span></a></td>',inner_html)\n",
    "print(stock_ls)\n",
    "\n"
   ]
  }
 ],
 "metadata": {
  "kernelspec": {
   "display_name": "Python 3",
   "language": "python",
   "name": "python3"
  },
  "language_info": {
   "codemirror_mode": {
    "name": "ipython",
    "version": 3
   },
   "file_extension": ".py",
   "mimetype": "text/x-python",
   "name": "python",
   "nbconvert_exporter": "python",
   "pygments_lexer": "ipython3",
   "version": "3.12.4"
  }
 },
 "nbformat": 4,
 "nbformat_minor": 2
}
