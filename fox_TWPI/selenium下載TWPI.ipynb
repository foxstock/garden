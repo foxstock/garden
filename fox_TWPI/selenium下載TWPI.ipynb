{
 "cells": [
  {
   "cell_type": "code",
   "execution_count": 1,
   "metadata": {},
   "outputs": [],
   "source": [
    "import time,re,os,pathlib,time,configparser\n",
    "from sys import exit,argv\n",
    "from datetime import datetime\n",
    "from time import gmtime,strftime\n",
    "\n",
    "from selenium import webdriver\n",
    "from selenium.webdriver.chrome.service import Service\n",
    "\n",
    "from selenium.webdriver.common.by import By\n",
    "from selenium.webdriver.support.ui import Select\n",
    "from selenium.webdriver.common.keys import Keys\n",
    "\n",
    "from selenium.webdriver.support.ui import WebDriverWait\n",
    "from selenium.webdriver.support import expected_conditions as EC\n",
    "\n",
    "from selenium.webdriver import ActionChains\n",
    "\n",
    "from bs4 import BeautifulSoup\n",
    "\n"
   ]
  },
  {
   "cell_type": "code",
   "execution_count": 2,
   "metadata": {},
   "outputs": [],
   "source": [
    "#TWPI\n",
    "url=\"https://index.ndc.gov.tw/n/zh_tw/data/eco#/\"\n",
    "\n",
    "service = Service(\"C:\\\\chromedriver\\\\chromedriver.exe\")\n",
    "driver = webdriver.Chrome(service=service)\n",
    "driver.get(url)"
   ]
  },
  {
   "cell_type": "code",
   "execution_count": 3,
   "metadata": {},
   "outputs": [],
   "source": [
    "show_table_link = driver.find_element(By.LINK_TEXT,\"表格\")\n",
    "show_table_link.click()\n",
    "\n",
    "show_table_link = driver.find_element(By.LINK_TEXT,\"領先指標不含趨勢指數\")\n",
    "show_table_link.click()\n",
    "\n",
    "show_table_link = driver.find_element(By.LINK_TEXT,\"同時指標不含趨勢指數\")\n",
    "show_table_link.click()\n",
    "\n",
    "show_table_link = driver.find_element(By.LINK_TEXT,\"落後指標不含趨勢指數\")\n",
    "show_table_link.click()"
   ]
  },
  {
   "cell_type": "code",
   "execution_count": 4,
   "metadata": {},
   "outputs": [],
   "source": [
    "drag = WebDriverWait(driver,20).until(EC.element_to_be_clickable((By.XPATH,\"/html/body/div[3]/div/div[3]/div[2]/div[3]/span[1]\")))\n",
    "drop = WebDriverWait(driver,20).until(EC.element_to_be_clickable((By.XPATH,\"/html/body/div[3]/div/div[3]/div[1]/div[2]/ul/li[3]/a[1]\")))\n",
    "ActionChains(driver).drag_and_drop(drag,drop).perform()"
   ]
  },
  {
   "cell_type": "code",
   "execution_count": null,
   "metadata": {},
   "outputs": [],
   "source": [
    "import re\n",
    "\n",
    "table = driver.find_element(By.XPATH,\"/html/body/div[3]/div/div[3]/div[2]/div[7]/div[2]/div[3]/table/tbody\")\n",
    "\n",
    "source = table.get_attribute('innerHTML')\n",
    "source = source.replace(\"\\n\",\"\").replace(\"                                    \",\"\")\n",
    "source=re.sub(\"<!-- .*? -->\",\"\",source)\n",
    "source=re.sub(\"<div .*?>\",\"\",source)\n",
    "source=re.sub(\"<span .*?>\",\"\",source)\n",
    "source=re.sub(\"<img .*?>\",\"\",source)\n",
    "source=re.sub(\"</div>\",\"\",source)\n",
    "source=re.sub(\"<div>\",\"\",source)\n",
    "source=re.sub(\"</span>\",\"\",source)\n",
    "source=re.sub(\"<tr .*?>\",\"<tr>\",source)\n",
    "source=re.sub(\"<td .*?>\",\"<td>\",source)\n",
    "source = source.replace(\"    \",\"\")\n",
    "#with open(\"test.txt\",\"w+\") as f:\n",
    "#    f.write(source)\n",
    "twpi_ls=re.findall(\"<tr><td>([^<]+)</td><td></td><td>([^<]+)</td><td>([^<]+)</td><td>([^<]+)</td><td>([^<]+)</td></tr>\",source)\n",
    "with open(\"TWPI.csv\",\"w+\") as f:\n",
    "    f.writelines(\"年月,景氣對策信號(分),領先指標不含趨勢指數(點),同時指標不含趨勢指數(點),落後指標不含趨勢指數(點)\\n\")\n",
    "    for i in twpi_ls:\n",
    "        tmp_ym=i[0].replace(\"-\",\"/\")\n",
    "        f.writelines(f\"{tmp_ym},{i[1]},{i[2]},{i[3]},{i[4]}\\n\")\n",
    "        #1984/02,39,105.02,105.99,99.5\n",
    "print(\"TWPI.csv 下載完成\")\n",
    "driver.close()\n"
   ]
  }
 ],
 "metadata": {
  "kernelspec": {
   "display_name": "Python 3",
   "language": "python",
   "name": "python3"
  },
  "language_info": {
   "codemirror_mode": {
    "name": "ipython",
    "version": 3
   },
   "file_extension": ".py",
   "mimetype": "text/x-python",
   "name": "python",
   "nbconvert_exporter": "python",
   "pygments_lexer": "ipython3",
   "version": "3.12.4"
  }
 },
 "nbformat": 4,
 "nbformat_minor": 2
}
