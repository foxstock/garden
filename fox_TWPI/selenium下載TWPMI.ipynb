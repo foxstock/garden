{
 "cells": [
  {
   "cell_type": "code",
   "execution_count": 1,
   "metadata": {},
   "outputs": [],
   "source": [
    "import time,re,os,pathlib,time,configparser\n",
    "from sys import exit,argv\n",
    "from datetime import datetime\n",
    "from time import gmtime,strftime\n",
    "\n",
    "from selenium import webdriver\n",
    "from selenium.webdriver.chrome.service import Service\n",
    "\n",
    "from selenium.webdriver.common.by import By\n",
    "from selenium.webdriver.support.ui import Select\n",
    "from selenium.webdriver.common.keys import Keys\n",
    "\n",
    "from selenium.webdriver.support.ui import WebDriverWait\n",
    "from selenium.webdriver.support import expected_conditions as EC\n",
    "\n",
    "from selenium.webdriver import ActionChains\n",
    "\n",
    "from bs4 import BeautifulSoup\n",
    "\n"
   ]
  },
  {
   "cell_type": "code",
   "execution_count": 2,
   "metadata": {},
   "outputs": [],
   "source": [
    "#TWPMI\n",
    "url=\"https://index.ndc.gov.tw/n/zh_tw/data/PMI#/\"\n",
    "\n",
    "service = Service(\"C:\\\\chromedriver\\\\chromedriver.exe\")\n",
    "driver = webdriver.Chrome(service=service)\n",
    "driver.get(url)"
   ]
  },
  {
   "cell_type": "code",
   "execution_count": 3,
   "metadata": {},
   "outputs": [],
   "source": [
    "show_table_link = driver.find_element(By.LINK_TEXT,\"表格\")\n",
    "show_table_link.click()\n",
    "\n",
    "show_table_link = driver.find_element(By.LINK_TEXT,\"製造業PMI(季調值)\")\n",
    "show_table_link.click()\n",
    "\n",
    "show_table_link = driver.find_element(By.LINK_TEXT,\"製造業PMI\")\n",
    "show_table_link.click()\n",
    "\n",
    "show_table_link = driver.find_element(By.LINK_TEXT,\"新增訂單數量(季調值)\")\n",
    "show_table_link.click()\n",
    "\n",
    "show_table_link = driver.find_element(By.LINK_TEXT,\"生產數量(季調值)\")\n",
    "show_table_link.click()\n",
    "\n",
    "show_table_link = driver.find_element(By.LINK_TEXT,\"人力僱用數量(季調值)\")\n",
    "show_table_link.click()\n",
    "\n",
    "show_table_link = driver.find_element(By.LINK_TEXT,\"供應商交貨時間\")\n",
    "show_table_link.click()\n",
    "\n",
    "show_table_link = driver.find_element(By.LINK_TEXT,\"存貨\")\n",
    "show_table_link.click()"
   ]
  },
  {
   "cell_type": "code",
   "execution_count": 4,
   "metadata": {},
   "outputs": [],
   "source": [
    "drag = WebDriverWait(driver,20).until(EC.element_to_be_clickable((By.XPATH,\"/html/body/div[3]/div/div[2]/div[2]/div[3]/span[1]\")))\n",
    "drop = WebDriverWait(driver,20).until(EC.element_to_be_clickable((By.XPATH,\"/html/body/div[3]/div/div[2]/div[1]/div[2]/ul/li[2]/a\")))\n",
    "ActionChains(driver).drag_and_drop(drag,drop).perform()"
   ]
  },
  {
   "cell_type": "code",
   "execution_count": 5,
   "metadata": {},
   "outputs": [
    {
     "name": "stdout",
     "output_type": "stream",
     "text": [
      "TWPMI.csv 下載完成\n"
     ]
    }
   ],
   "source": [
    "import re\n",
    "\n",
    "table = driver.find_element(By.XPATH,\"/html/body/div[3]/div/div[2]/div[2]/div[7]/div[2]/div[3]/table/tbody\")\n",
    "\n",
    "source = table.get_attribute('innerHTML')\n",
    "source = source.replace(\"\\n\",\"\").replace(\"                                    \",\"\")\n",
    "source=re.sub(\"<!-- .*? -->\",\"\",source)\n",
    "source=re.sub(\"<div .*?>\",\"\",source)\n",
    "source=re.sub(\"<span .*?>\",\"\",source)\n",
    "source=re.sub(\"<img .*?>\",\"\",source)\n",
    "source=re.sub(\"</div>\",\"\",source)\n",
    "source=re.sub(\"<div>\",\"\",source)\n",
    "source=re.sub(\"</span>\",\"\",source)\n",
    "source=re.sub(\"<tr .*?>\",\"<tr>\",source)\n",
    "source=re.sub(\"<td .*?>\",\"<td>\",source)\n",
    "source = source.replace(\"                            \",\"\")\n",
    "source = source.replace(\"                    　\",\"\")\n",
    "source = source.replace(\"                    \",\"\")\n",
    "source = source.replace(\"    \",\"\")\n",
    "\n",
    "# web table欄位順序:\n",
    "# 年月\t供應商交貨時間(%)\t存貨(%)\t製造業PMI(季調值)(%)\t新增訂單數量(季調值)(%)\t生產數量(季調值)(%)\t人力僱用數量(季調值)(%)\n",
    "# 0     1                   2      3                      4                       5                   6         \n",
    "# 要輸出的順序:\n",
    "# 年月,製造業PMI(%),新增訂單數量(%),生產數量(%),人力僱用數量(%),供應商交貨時間(%),存貨(%)\n",
    "# 0    3            4               5           6               1               2\n",
    "\n",
    "twpmi_ls=re.findall(\"<tr><td>([^<]+)</td><td>([^<]+)</td><td>([^<]+)</td><td>([^<]+)</td><td>([^<]+)</td><td>([^<]+)</td><td>([^<]+)</td></tr>\",source)\n",
    "with open(\"TWPMI.csv\",\"w+\") as f:\n",
    "     f.writelines(\"年月,製造業PMI(%),新增訂單數量(%),生產數量(%),人力僱用數量(%),供應商交貨時間(%),存貨(%)\\n\")\n",
    "     for i in twpmi_ls:\n",
    "         tmp_ym=i[0].replace(\"-\",\"/\")\n",
    "         f.writelines(f\"{tmp_ym},{i[3]},{i[4]},{i[5]},{i[6]},{i[1]},{i[2]}\\n\")\n",
    "\n",
    "print(\"TWPMI.csv 下載完成\")\n",
    "driver.close()\n",
    "\n"
   ]
  },
  {
   "cell_type": "code",
   "execution_count": 10,
   "metadata": {},
   "outputs": [
    {
     "name": "stdout",
     "output_type": "stream",
     "text": [
      "TWPI.csv 下載完成\n"
     ]
    }
   ],
   "source": [
    "# import re\n",
    "# \n",
    "# table = driver.find_element(By.XPATH,\"/html/body/div[3]/div/div[3]/div[2]/div[7]/div[2]/div[3]/table/tbody\")\n",
    "# \n",
    "# source = table.get_attribute('innerHTML')\n",
    "# source = source.replace(\"\\n\",\"\").replace(\"                                    \",\"\")\n",
    "# source=re.sub(\"<!-- .*? -->\",\"\",source)\n",
    "# source=re.sub(\"<div .*?>\",\"\",source)\n",
    "# source=re.sub(\"<span .*?>\",\"\",source)\n",
    "# source=re.sub(\"<img .*?>\",\"\",source)\n",
    "# source=re.sub(\"</div>\",\"\",source)\n",
    "# source=re.sub(\"<div>\",\"\",source)\n",
    "# source=re.sub(\"</span>\",\"\",source)\n",
    "# source=re.sub(\"<tr .*?>\",\"<tr>\",source)\n",
    "# source=re.sub(\"<td .*?>\",\"<td>\",source)\n",
    "# source = source.replace(\"                            \",\"\")\n",
    "# source = source.replace(\"                    　\",\"\")\n",
    "# source = source.replace(\"                    \",\"\")\n",
    "# source = source.replace(\"    \",\"\")\n",
    "# \n",
    "# twpi_ls=re.findall(\"<tr><td>([^<]+)</td><td></td><td>([^<]+)</td><td>([^<]+)</td><td>([^<]+)</td><td>([^<]+)</td></tr>\",source)\n",
    "# with open(\"TWPI.csv\",\"w+\") as f:\n",
    "#     f.writelines(\"年月,景氣對策信號(分),領先指標不含趨勢指數(點),同時指標不含趨勢指數(點),落後指標不含趨勢指數(點)\\n\")\n",
    "#     for i in twpi_ls:\n",
    "#         tmp_ym=i[0].replace(\"-\",\"/\")\n",
    "#         f.writelines(f\"{tmp_ym},{i[1]},{i[2]},{i[3]},{i[4]}\\n\")\n",
    "#         #1984/02,39,105.02,105.99,99.5\n",
    "# print(\"TWPI.csv 下載完成\")\n",
    "# driver.close()\n"
   ]
  }
 ],
 "metadata": {
  "kernelspec": {
   "display_name": "Python 3",
   "language": "python",
   "name": "python3"
  },
  "language_info": {
   "codemirror_mode": {
    "name": "ipython",
    "version": 3
   },
   "file_extension": ".py",
   "mimetype": "text/x-python",
   "name": "python",
   "nbconvert_exporter": "python",
   "pygments_lexer": "ipython3",
   "version": "3.12.4"
  }
 },
 "nbformat": 4,
 "nbformat_minor": 2
}
